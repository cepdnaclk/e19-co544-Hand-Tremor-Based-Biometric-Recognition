{
 "cells": [
  {
   "cell_type": "code",
   "execution_count": 6,
   "metadata": {},
   "outputs": [],
   "source": [
    "import pandas as pd\n",
    "import numpy as np\n",
    "import matplotlib.pyplot as plt\n",
    "from scipy.signal import find_peaks\n",
    "from scipy.fft import fft"
   ]
  },
  {
   "cell_type": "code",
   "execution_count": 7,
   "metadata": {},
   "outputs": [
    {
     "data": {
      "text/html": [
       "<div>\n",
       "<style scoped>\n",
       "    .dataframe tbody tr th:only-of-type {\n",
       "        vertical-align: middle;\n",
       "    }\n",
       "\n",
       "    .dataframe tbody tr th {\n",
       "        vertical-align: top;\n",
       "    }\n",
       "\n",
       "    .dataframe thead th {\n",
       "        text-align: right;\n",
       "    }\n",
       "</style>\n",
       "<table border=\"1\" class=\"dataframe\">\n",
       "  <thead>\n",
       "    <tr style=\"text-align: right;\">\n",
       "      <th></th>\n",
       "      <th>X</th>\n",
       "      <th>Y</th>\n",
       "      <th>Z</th>\n",
       "      <th>Mixed</th>\n",
       "      <th>ClassLabel</th>\n",
       "    </tr>\n",
       "  </thead>\n",
       "  <tbody>\n",
       "    <tr>\n",
       "      <th>0</th>\n",
       "      <td>0.125022</td>\n",
       "      <td>0.094986</td>\n",
       "      <td>0.001297</td>\n",
       "      <td>0.157018</td>\n",
       "      <td>1</td>\n",
       "    </tr>\n",
       "    <tr>\n",
       "      <th>1</th>\n",
       "      <td>0.150710</td>\n",
       "      <td>0.083282</td>\n",
       "      <td>-0.023514</td>\n",
       "      <td>0.173788</td>\n",
       "      <td>1</td>\n",
       "    </tr>\n",
       "    <tr>\n",
       "      <th>2</th>\n",
       "      <td>0.102941</td>\n",
       "      <td>0.111084</td>\n",
       "      <td>0.010075</td>\n",
       "      <td>0.151782</td>\n",
       "      <td>1</td>\n",
       "    </tr>\n",
       "    <tr>\n",
       "      <th>3</th>\n",
       "      <td>0.038450</td>\n",
       "      <td>0.049911</td>\n",
       "      <td>0.007511</td>\n",
       "      <td>0.063451</td>\n",
       "      <td>1</td>\n",
       "    </tr>\n",
       "    <tr>\n",
       "      <th>4</th>\n",
       "      <td>-0.029148</td>\n",
       "      <td>-0.105423</td>\n",
       "      <td>0.017124</td>\n",
       "      <td>0.110711</td>\n",
       "      <td>1</td>\n",
       "    </tr>\n",
       "  </tbody>\n",
       "</table>\n",
       "</div>"
      ],
      "text/plain": [
       "          X         Y         Z     Mixed  ClassLabel\n",
       "0  0.125022  0.094986  0.001297  0.157018           1\n",
       "1  0.150710  0.083282 -0.023514  0.173788           1\n",
       "2  0.102941  0.111084  0.010075  0.151782           1\n",
       "3  0.038450  0.049911  0.007511  0.063451           1\n",
       "4 -0.029148 -0.105423  0.017124  0.110711           1"
      ]
     },
     "execution_count": 7,
     "metadata": {},
     "output_type": "execute_result"
    }
   ],
   "source": [
    "df = pd.read_csv('Dataset/dataset.csv')\n",
    "df.head()"
   ]
  },
  {
   "cell_type": "code",
   "execution_count": 8,
   "metadata": {},
   "outputs": [],
   "source": [
    "person1 = df[df['ClassLabel'] == 1]\n",
    "person2 = df[df['ClassLabel'] == 2]\n",
    "person3 = df[df['ClassLabel'] == 3]\n",
    "person4 = df[df['ClassLabel'] == 4]\n",
    "person5 = df[df['ClassLabel'] == 5]"
   ]
  },
  {
   "cell_type": "code",
   "execution_count": 11,
   "metadata": {},
   "outputs": [],
   "source": [
    "def remove_outliers_iqr(data, column):\n",
    "    q1 = data[column].quantile(0.25)\n",
    "    q3 = data[column].quantile(0.75)\n",
    "    iqr = q3 - q1\n",
    "    lower_bound = q1 - 1.5 * iqr\n",
    "    upper_bound = q3 + 1.5 * iqr\n",
    "    return data[(data[column] >= lower_bound) & (data[column] <= upper_bound)]\n",
    "\n",
    "def calculate_metrics(window):\n",
    "    mean = window.mean()\n",
    "    std_dev = window.std()\n",
    "    energy = np.sum(np.square(window))\n",
    "    hist = np.histogram(window, bins=10, density=True)[0]\n",
    "    entropy = -np.sum(hist * np.log2(hist + 1e-10))\n",
    "    peaks, _ = find_peaks(window, height=0)\n",
    "    num_peaks = len(peaks)\n",
    "    return mean, std_dev, energy, entropy, num_peaks\n",
    "\n"
   ]
  },
  {
   "cell_type": "code",
   "execution_count": 13,
   "metadata": {},
   "outputs": [],
   "source": [
    "def apply_fft_and_extract_features(data, window_size=100):\n",
    "    all_metrics = []\n",
    "    for index, person_df in enumerate(data):\n",
    "        # Remove outliers for each column\n",
    "        for col in ['X', 'Y', 'Z', 'Mixed']:\n",
    "            person_df = remove_outliers_iqr(person_df, col)\n",
    "        \n",
    "        # Apply FFT and calculate metrics for each column\n",
    "        metrics = {f'{metric_name}_{col}': [] for col in ['X', 'Y', 'Z', 'Mixed'] for metric_name in ['Mean', 'Std Dev', 'Energy', 'Entropy', 'Peaks']}\n",
    "        \n",
    "        for i in range(0, len(person_df) - window_size + 1, window_size):\n",
    "            for col in ['X', 'Y', 'Z', 'Mixed']:\n",
    "                window = person_df[col].iloc[i:i + window_size].values\n",
    "                window_fft = np.abs(fft(window))\n",
    "                mean, std_dev, energy, entropy, num_peaks = calculate_metrics(window_fft)\n",
    "                metrics[f'Mean_{col}'].append(mean)\n",
    "                metrics[f'Std Dev_{col}'].append(std_dev)\n",
    "                metrics[f'Energy_{col}'].append(energy)\n",
    "                metrics[f'Entropy_{col}'].append(entropy)\n",
    "                metrics[f'Peaks_{col}'].append(num_peaks)\n",
    "        \n",
    "        result_df = pd.DataFrame(metrics)\n",
    "        result_df['category'] = index + 1  # Add category based on index (+1 to start from 1)\n",
    "        all_metrics.append(result_df)\n",
    "    \n",
    "    # Concatenate all DataFrames into one\n",
    "    combined_df = pd.concat(all_metrics)\n",
    "    return combined_df"
   ]
  },
  {
   "cell_type": "code",
   "execution_count": 14,
   "metadata": {},
   "outputs": [],
   "source": [
    "# Define the personas\n",
    "personas = [person1, person2, person3, person4, person5]\n",
    "# Apply FFT and extract features\n",
    "combined_df = apply_fft_and_extract_features(personas)\n",
    "\n",
    "# Save combined DataFrame to CSV\n",
    "combined_df.to_csv('Dataset/fft_combined_metrics.csv', index=False)"
   ]
  }
 ],
 "metadata": {
  "kernelspec": {
   "display_name": "Python 3",
   "language": "python",
   "name": "python3"
  },
  "language_info": {
   "codemirror_mode": {
    "name": "ipython",
    "version": 3
   },
   "file_extension": ".py",
   "mimetype": "text/x-python",
   "name": "python",
   "nbconvert_exporter": "python",
   "pygments_lexer": "ipython3",
   "version": "3.11.4"
  }
 },
 "nbformat": 4,
 "nbformat_minor": 2
}
