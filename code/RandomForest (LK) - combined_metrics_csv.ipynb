{
 "cells": [
  {
   "cell_type": "markdown",
   "id": "e9ab09e4-5cf4-4f90-9fd7-2c2ef26e4d0b",
   "metadata": {},
   "source": [
    "# Random Forest - Model Training"
   ]
  },
  {
   "cell_type": "code",
   "execution_count": 1,
   "id": "5cec3159-f305-4843-9ab2-bdfcd97a7aaf",
   "metadata": {},
   "outputs": [],
   "source": [
    "import pandas as pd\n",
    "import numpy as np\n",
    "import matplotlib.pyplot as plt"
   ]
  },
  {
   "cell_type": "code",
   "execution_count": 2,
   "id": "c52620f3-36a9-45fa-80b6-ba7bcd0233b6",
   "metadata": {},
   "outputs": [],
   "source": [
    "from sklearn.model_selection import train_test_split, cross_val_score\n",
    "from sklearn.metrics import accuracy_score, confusion_matrix, classification_report\n",
    "from sklearn.ensemble import RandomForestClassifier"
   ]
  },
  {
   "cell_type": "markdown",
   "id": "c1f25dd4-d180-4ed0-a2ee-f64cc2cdca52",
   "metadata": {},
   "source": [
    "## Import Dataset"
   ]
  },
  {
   "cell_type": "code",
   "execution_count": 3,
   "id": "38707248-b708-471a-825b-503b07b9a839",
   "metadata": {},
   "outputs": [],
   "source": [
    "dataset = pd.read_csv('combined_metrics.csv')"
   ]
  },
  {
   "cell_type": "markdown",
   "id": "6d144aea-5bdb-424e-ade6-a47abf3741e8",
   "metadata": {},
   "source": [
    "## Visualize Dataset"
   ]
  },
  {
   "cell_type": "code",
   "execution_count": 4,
   "id": "1891d183-cbfd-4002-9153-2317c2cdd4e2",
   "metadata": {},
   "outputs": [
    {
     "data": {
      "text/html": [
       "<div>\n",
       "<style scoped>\n",
       "    .dataframe tbody tr th:only-of-type {\n",
       "        vertical-align: middle;\n",
       "    }\n",
       "\n",
       "    .dataframe tbody tr th {\n",
       "        vertical-align: top;\n",
       "    }\n",
       "\n",
       "    .dataframe thead th {\n",
       "        text-align: right;\n",
       "    }\n",
       "</style>\n",
       "<table border=\"1\" class=\"dataframe\">\n",
       "  <thead>\n",
       "    <tr style=\"text-align: right;\">\n",
       "      <th></th>\n",
       "      <th>Mean_X</th>\n",
       "      <th>Std Dev_X</th>\n",
       "      <th>Energy_X</th>\n",
       "      <th>Entropy_X</th>\n",
       "      <th>Peaks_X</th>\n",
       "      <th>Mean_Y</th>\n",
       "      <th>Std Dev_Y</th>\n",
       "      <th>Energy_Y</th>\n",
       "      <th>Entropy_Y</th>\n",
       "      <th>Peaks_Y</th>\n",
       "      <th>...</th>\n",
       "      <th>Std Dev_Z</th>\n",
       "      <th>Energy_Z</th>\n",
       "      <th>Entropy_Z</th>\n",
       "      <th>Peaks_Z</th>\n",
       "      <th>Mean_Mixed</th>\n",
       "      <th>Std Dev_Mixed</th>\n",
       "      <th>Energy_Mixed</th>\n",
       "      <th>Entropy_Mixed</th>\n",
       "      <th>Peaks_Mixed</th>\n",
       "      <th>category</th>\n",
       "    </tr>\n",
       "  </thead>\n",
       "  <tbody>\n",
       "    <tr>\n",
       "      <th>0</th>\n",
       "      <td>0.025967</td>\n",
       "      <td>0.149649</td>\n",
       "      <td>2.284523</td>\n",
       "      <td>-10.269194</td>\n",
       "      <td>17</td>\n",
       "      <td>0.019115</td>\n",
       "      <td>0.236742</td>\n",
       "      <td>5.585155</td>\n",
       "      <td>-1.251265</td>\n",
       "      <td>20</td>\n",
       "      <td>...</td>\n",
       "      <td>0.114890</td>\n",
       "      <td>1.308246</td>\n",
       "      <td>-17.827970</td>\n",
       "      <td>20</td>\n",
       "      <td>0.268438</td>\n",
       "      <td>0.139471</td>\n",
       "      <td>9.131639</td>\n",
       "      <td>-18.530758</td>\n",
       "      <td>27</td>\n",
       "      <td>1</td>\n",
       "    </tr>\n",
       "    <tr>\n",
       "      <th>1</th>\n",
       "      <td>0.024132</td>\n",
       "      <td>0.149547</td>\n",
       "      <td>2.272307</td>\n",
       "      <td>-10.310649</td>\n",
       "      <td>16</td>\n",
       "      <td>0.020332</td>\n",
       "      <td>0.237447</td>\n",
       "      <td>5.623074</td>\n",
       "      <td>-1.204877</td>\n",
       "      <td>20</td>\n",
       "      <td>...</td>\n",
       "      <td>0.116141</td>\n",
       "      <td>1.338520</td>\n",
       "      <td>-17.687143</td>\n",
       "      <td>20</td>\n",
       "      <td>0.269707</td>\n",
       "      <td>0.139023</td>\n",
       "      <td>9.187616</td>\n",
       "      <td>-18.425003</td>\n",
       "      <td>26</td>\n",
       "      <td>1</td>\n",
       "    </tr>\n",
       "    <tr>\n",
       "      <th>2</th>\n",
       "      <td>0.021001</td>\n",
       "      <td>0.150147</td>\n",
       "      <td>2.275984</td>\n",
       "      <td>-9.992131</td>\n",
       "      <td>16</td>\n",
       "      <td>0.021384</td>\n",
       "      <td>0.237961</td>\n",
       "      <td>5.651662</td>\n",
       "      <td>-1.171929</td>\n",
       "      <td>20</td>\n",
       "      <td>...</td>\n",
       "      <td>0.116818</td>\n",
       "      <td>1.355477</td>\n",
       "      <td>-17.593953</td>\n",
       "      <td>19</td>\n",
       "      <td>0.270788</td>\n",
       "      <td>0.138690</td>\n",
       "      <td>9.236838</td>\n",
       "      <td>-18.255960</td>\n",
       "      <td>27</td>\n",
       "      <td>1</td>\n",
       "    </tr>\n",
       "    <tr>\n",
       "      <th>3</th>\n",
       "      <td>0.019992</td>\n",
       "      <td>0.149930</td>\n",
       "      <td>2.265391</td>\n",
       "      <td>-10.067565</td>\n",
       "      <td>16</td>\n",
       "      <td>0.025724</td>\n",
       "      <td>0.243507</td>\n",
       "      <td>5.936428</td>\n",
       "      <td>-0.909256</td>\n",
       "      <td>20</td>\n",
       "      <td>...</td>\n",
       "      <td>0.117885</td>\n",
       "      <td>1.382936</td>\n",
       "      <td>-17.495941</td>\n",
       "      <td>19</td>\n",
       "      <td>0.274968</td>\n",
       "      <td>0.141341</td>\n",
       "      <td>9.538472</td>\n",
       "      <td>-17.979045</td>\n",
       "      <td>27</td>\n",
       "      <td>1</td>\n",
       "    </tr>\n",
       "    <tr>\n",
       "      <th>4</th>\n",
       "      <td>0.019370</td>\n",
       "      <td>0.149982</td>\n",
       "      <td>2.264473</td>\n",
       "      <td>-10.036759</td>\n",
       "      <td>17</td>\n",
       "      <td>0.029207</td>\n",
       "      <td>0.246331</td>\n",
       "      <td>6.092519</td>\n",
       "      <td>-0.772432</td>\n",
       "      <td>21</td>\n",
       "      <td>...</td>\n",
       "      <td>0.118369</td>\n",
       "      <td>1.396498</td>\n",
       "      <td>-17.422948</td>\n",
       "      <td>18</td>\n",
       "      <td>0.278490</td>\n",
       "      <td>0.140402</td>\n",
       "      <td>9.707206</td>\n",
       "      <td>-18.063853</td>\n",
       "      <td>27</td>\n",
       "      <td>1</td>\n",
       "    </tr>\n",
       "  </tbody>\n",
       "</table>\n",
       "<p>5 rows × 21 columns</p>\n",
       "</div>"
      ],
      "text/plain": [
       "     Mean_X  Std Dev_X  Energy_X  Entropy_X  Peaks_X    Mean_Y  Std Dev_Y  \\\n",
       "0  0.025967   0.149649  2.284523 -10.269194       17  0.019115   0.236742   \n",
       "1  0.024132   0.149547  2.272307 -10.310649       16  0.020332   0.237447   \n",
       "2  0.021001   0.150147  2.275984  -9.992131       16  0.021384   0.237961   \n",
       "3  0.019992   0.149930  2.265391 -10.067565       16  0.025724   0.243507   \n",
       "4  0.019370   0.149982  2.264473 -10.036759       17  0.029207   0.246331   \n",
       "\n",
       "   Energy_Y  Entropy_Y  Peaks_Y  ...  Std Dev_Z  Energy_Z  Entropy_Z  Peaks_Z  \\\n",
       "0  5.585155  -1.251265       20  ...   0.114890  1.308246 -17.827970       20   \n",
       "1  5.623074  -1.204877       20  ...   0.116141  1.338520 -17.687143       20   \n",
       "2  5.651662  -1.171929       20  ...   0.116818  1.355477 -17.593953       19   \n",
       "3  5.936428  -0.909256       20  ...   0.117885  1.382936 -17.495941       19   \n",
       "4  6.092519  -0.772432       21  ...   0.118369  1.396498 -17.422948       18   \n",
       "\n",
       "   Mean_Mixed  Std Dev_Mixed  Energy_Mixed  Entropy_Mixed  Peaks_Mixed  \\\n",
       "0    0.268438       0.139471      9.131639     -18.530758           27   \n",
       "1    0.269707       0.139023      9.187616     -18.425003           26   \n",
       "2    0.270788       0.138690      9.236838     -18.255960           27   \n",
       "3    0.274968       0.141341      9.538472     -17.979045           27   \n",
       "4    0.278490       0.140402      9.707206     -18.063853           27   \n",
       "\n",
       "   category  \n",
       "0         1  \n",
       "1         1  \n",
       "2         1  \n",
       "3         1  \n",
       "4         1  \n",
       "\n",
       "[5 rows x 21 columns]"
      ]
     },
     "execution_count": 4,
     "metadata": {},
     "output_type": "execute_result"
    }
   ],
   "source": [
    "dataset.head()"
   ]
  },
  {
   "cell_type": "code",
   "execution_count": 5,
   "id": "c2c66ca9-d512-4276-a81e-668a8a82e534",
   "metadata": {},
   "outputs": [
    {
     "name": "stdout",
     "output_type": "stream",
     "text": [
      "Mean_X           0\n",
      "Std Dev_X        5\n",
      "Energy_X         0\n",
      "Entropy_X        0\n",
      "Peaks_X          0\n",
      "Mean_Y           0\n",
      "Std Dev_Y        5\n",
      "Energy_Y         0\n",
      "Entropy_Y        0\n",
      "Peaks_Y          0\n",
      "Mean_Z           0\n",
      "Std Dev_Z        5\n",
      "Energy_Z         0\n",
      "Entropy_Z        0\n",
      "Peaks_Z          0\n",
      "Mean_Mixed       0\n",
      "Std Dev_Mixed    5\n",
      "Energy_Mixed     0\n",
      "Entropy_Mixed    0\n",
      "Peaks_Mixed      0\n",
      "category         0\n",
      "dtype: int64\n"
     ]
    }
   ],
   "source": [
    "print(dataset.isnull().sum())"
   ]
  },
  {
   "cell_type": "markdown",
   "id": "0dbd413d-1017-42fe-bde6-9219e9205cc4",
   "metadata": {},
   "source": [
    "## Seperate X-Y values, Train-Test values"
   ]
  },
  {
   "cell_type": "code",
   "execution_count": 6,
   "id": "731907cc-e4dc-4beb-a4af-d3153225bcfd",
   "metadata": {},
   "outputs": [],
   "source": [
    "X = dataset.drop(columns=['category'])\n",
    "Y = dataset['category']"
   ]
  },
  {
   "cell_type": "markdown",
   "id": "e0d779d5-d85f-403c-8981-37825ba53ab0",
   "metadata": {},
   "source": [
    "## Train the Model - Basics"
   ]
  },
  {
   "cell_type": "markdown",
   "id": "a2137fe7-751e-4284-9158-15779c04e55f",
   "metadata": {},
   "source": [
    "### Train the Model"
   ]
  },
  {
   "cell_type": "code",
   "execution_count": 7,
   "id": "bc0f252b-909d-446a-92e5-c73f48ba3b22",
   "metadata": {},
   "outputs": [
    {
     "data": {
      "text/html": [
       "<style>#sk-container-id-1 {\n",
       "  /* Definition of color scheme common for light and dark mode */\n",
       "  --sklearn-color-text: black;\n",
       "  --sklearn-color-line: gray;\n",
       "  /* Definition of color scheme for unfitted estimators */\n",
       "  --sklearn-color-unfitted-level-0: #fff5e6;\n",
       "  --sklearn-color-unfitted-level-1: #f6e4d2;\n",
       "  --sklearn-color-unfitted-level-2: #ffe0b3;\n",
       "  --sklearn-color-unfitted-level-3: chocolate;\n",
       "  /* Definition of color scheme for fitted estimators */\n",
       "  --sklearn-color-fitted-level-0: #f0f8ff;\n",
       "  --sklearn-color-fitted-level-1: #d4ebff;\n",
       "  --sklearn-color-fitted-level-2: #b3dbfd;\n",
       "  --sklearn-color-fitted-level-3: cornflowerblue;\n",
       "\n",
       "  /* Specific color for light theme */\n",
       "  --sklearn-color-text-on-default-background: var(--sg-text-color, var(--theme-code-foreground, var(--jp-content-font-color1, black)));\n",
       "  --sklearn-color-background: var(--sg-background-color, var(--theme-background, var(--jp-layout-color0, white)));\n",
       "  --sklearn-color-border-box: var(--sg-text-color, var(--theme-code-foreground, var(--jp-content-font-color1, black)));\n",
       "  --sklearn-color-icon: #696969;\n",
       "\n",
       "  @media (prefers-color-scheme: dark) {\n",
       "    /* Redefinition of color scheme for dark theme */\n",
       "    --sklearn-color-text-on-default-background: var(--sg-text-color, var(--theme-code-foreground, var(--jp-content-font-color1, white)));\n",
       "    --sklearn-color-background: var(--sg-background-color, var(--theme-background, var(--jp-layout-color0, #111)));\n",
       "    --sklearn-color-border-box: var(--sg-text-color, var(--theme-code-foreground, var(--jp-content-font-color1, white)));\n",
       "    --sklearn-color-icon: #878787;\n",
       "  }\n",
       "}\n",
       "\n",
       "#sk-container-id-1 {\n",
       "  color: var(--sklearn-color-text);\n",
       "}\n",
       "\n",
       "#sk-container-id-1 pre {\n",
       "  padding: 0;\n",
       "}\n",
       "\n",
       "#sk-container-id-1 input.sk-hidden--visually {\n",
       "  border: 0;\n",
       "  clip: rect(1px 1px 1px 1px);\n",
       "  clip: rect(1px, 1px, 1px, 1px);\n",
       "  height: 1px;\n",
       "  margin: -1px;\n",
       "  overflow: hidden;\n",
       "  padding: 0;\n",
       "  position: absolute;\n",
       "  width: 1px;\n",
       "}\n",
       "\n",
       "#sk-container-id-1 div.sk-dashed-wrapped {\n",
       "  border: 1px dashed var(--sklearn-color-line);\n",
       "  margin: 0 0.4em 0.5em 0.4em;\n",
       "  box-sizing: border-box;\n",
       "  padding-bottom: 0.4em;\n",
       "  background-color: var(--sklearn-color-background);\n",
       "}\n",
       "\n",
       "#sk-container-id-1 div.sk-container {\n",
       "  /* jupyter's `normalize.less` sets `[hidden] { display: none; }`\n",
       "     but bootstrap.min.css set `[hidden] { display: none !important; }`\n",
       "     so we also need the `!important` here to be able to override the\n",
       "     default hidden behavior on the sphinx rendered scikit-learn.org.\n",
       "     See: https://github.com/scikit-learn/scikit-learn/issues/21755 */\n",
       "  display: inline-block !important;\n",
       "  position: relative;\n",
       "}\n",
       "\n",
       "#sk-container-id-1 div.sk-text-repr-fallback {\n",
       "  display: none;\n",
       "}\n",
       "\n",
       "div.sk-parallel-item,\n",
       "div.sk-serial,\n",
       "div.sk-item {\n",
       "  /* draw centered vertical line to link estimators */\n",
       "  background-image: linear-gradient(var(--sklearn-color-text-on-default-background), var(--sklearn-color-text-on-default-background));\n",
       "  background-size: 2px 100%;\n",
       "  background-repeat: no-repeat;\n",
       "  background-position: center center;\n",
       "}\n",
       "\n",
       "/* Parallel-specific style estimator block */\n",
       "\n",
       "#sk-container-id-1 div.sk-parallel-item::after {\n",
       "  content: \"\";\n",
       "  width: 100%;\n",
       "  border-bottom: 2px solid var(--sklearn-color-text-on-default-background);\n",
       "  flex-grow: 1;\n",
       "}\n",
       "\n",
       "#sk-container-id-1 div.sk-parallel {\n",
       "  display: flex;\n",
       "  align-items: stretch;\n",
       "  justify-content: center;\n",
       "  background-color: var(--sklearn-color-background);\n",
       "  position: relative;\n",
       "}\n",
       "\n",
       "#sk-container-id-1 div.sk-parallel-item {\n",
       "  display: flex;\n",
       "  flex-direction: column;\n",
       "}\n",
       "\n",
       "#sk-container-id-1 div.sk-parallel-item:first-child::after {\n",
       "  align-self: flex-end;\n",
       "  width: 50%;\n",
       "}\n",
       "\n",
       "#sk-container-id-1 div.sk-parallel-item:last-child::after {\n",
       "  align-self: flex-start;\n",
       "  width: 50%;\n",
       "}\n",
       "\n",
       "#sk-container-id-1 div.sk-parallel-item:only-child::after {\n",
       "  width: 0;\n",
       "}\n",
       "\n",
       "/* Serial-specific style estimator block */\n",
       "\n",
       "#sk-container-id-1 div.sk-serial {\n",
       "  display: flex;\n",
       "  flex-direction: column;\n",
       "  align-items: center;\n",
       "  background-color: var(--sklearn-color-background);\n",
       "  padding-right: 1em;\n",
       "  padding-left: 1em;\n",
       "}\n",
       "\n",
       "\n",
       "/* Toggleable style: style used for estimator/Pipeline/ColumnTransformer box that is\n",
       "clickable and can be expanded/collapsed.\n",
       "- Pipeline and ColumnTransformer use this feature and define the default style\n",
       "- Estimators will overwrite some part of the style using the `sk-estimator` class\n",
       "*/\n",
       "\n",
       "/* Pipeline and ColumnTransformer style (default) */\n",
       "\n",
       "#sk-container-id-1 div.sk-toggleable {\n",
       "  /* Default theme specific background. It is overwritten whether we have a\n",
       "  specific estimator or a Pipeline/ColumnTransformer */\n",
       "  background-color: var(--sklearn-color-background);\n",
       "}\n",
       "\n",
       "/* Toggleable label */\n",
       "#sk-container-id-1 label.sk-toggleable__label {\n",
       "  cursor: pointer;\n",
       "  display: block;\n",
       "  width: 100%;\n",
       "  margin-bottom: 0;\n",
       "  padding: 0.5em;\n",
       "  box-sizing: border-box;\n",
       "  text-align: center;\n",
       "}\n",
       "\n",
       "#sk-container-id-1 label.sk-toggleable__label-arrow:before {\n",
       "  /* Arrow on the left of the label */\n",
       "  content: \"▸\";\n",
       "  float: left;\n",
       "  margin-right: 0.25em;\n",
       "  color: var(--sklearn-color-icon);\n",
       "}\n",
       "\n",
       "#sk-container-id-1 label.sk-toggleable__label-arrow:hover:before {\n",
       "  color: var(--sklearn-color-text);\n",
       "}\n",
       "\n",
       "/* Toggleable content - dropdown */\n",
       "\n",
       "#sk-container-id-1 div.sk-toggleable__content {\n",
       "  max-height: 0;\n",
       "  max-width: 0;\n",
       "  overflow: hidden;\n",
       "  text-align: left;\n",
       "  /* unfitted */\n",
       "  background-color: var(--sklearn-color-unfitted-level-0);\n",
       "}\n",
       "\n",
       "#sk-container-id-1 div.sk-toggleable__content.fitted {\n",
       "  /* fitted */\n",
       "  background-color: var(--sklearn-color-fitted-level-0);\n",
       "}\n",
       "\n",
       "#sk-container-id-1 div.sk-toggleable__content pre {\n",
       "  margin: 0.2em;\n",
       "  border-radius: 0.25em;\n",
       "  color: var(--sklearn-color-text);\n",
       "  /* unfitted */\n",
       "  background-color: var(--sklearn-color-unfitted-level-0);\n",
       "}\n",
       "\n",
       "#sk-container-id-1 div.sk-toggleable__content.fitted pre {\n",
       "  /* unfitted */\n",
       "  background-color: var(--sklearn-color-fitted-level-0);\n",
       "}\n",
       "\n",
       "#sk-container-id-1 input.sk-toggleable__control:checked~div.sk-toggleable__content {\n",
       "  /* Expand drop-down */\n",
       "  max-height: 200px;\n",
       "  max-width: 100%;\n",
       "  overflow: auto;\n",
       "}\n",
       "\n",
       "#sk-container-id-1 input.sk-toggleable__control:checked~label.sk-toggleable__label-arrow:before {\n",
       "  content: \"▾\";\n",
       "}\n",
       "\n",
       "/* Pipeline/ColumnTransformer-specific style */\n",
       "\n",
       "#sk-container-id-1 div.sk-label input.sk-toggleable__control:checked~label.sk-toggleable__label {\n",
       "  color: var(--sklearn-color-text);\n",
       "  background-color: var(--sklearn-color-unfitted-level-2);\n",
       "}\n",
       "\n",
       "#sk-container-id-1 div.sk-label.fitted input.sk-toggleable__control:checked~label.sk-toggleable__label {\n",
       "  background-color: var(--sklearn-color-fitted-level-2);\n",
       "}\n",
       "\n",
       "/* Estimator-specific style */\n",
       "\n",
       "/* Colorize estimator box */\n",
       "#sk-container-id-1 div.sk-estimator input.sk-toggleable__control:checked~label.sk-toggleable__label {\n",
       "  /* unfitted */\n",
       "  background-color: var(--sklearn-color-unfitted-level-2);\n",
       "}\n",
       "\n",
       "#sk-container-id-1 div.sk-estimator.fitted input.sk-toggleable__control:checked~label.sk-toggleable__label {\n",
       "  /* fitted */\n",
       "  background-color: var(--sklearn-color-fitted-level-2);\n",
       "}\n",
       "\n",
       "#sk-container-id-1 div.sk-label label.sk-toggleable__label,\n",
       "#sk-container-id-1 div.sk-label label {\n",
       "  /* The background is the default theme color */\n",
       "  color: var(--sklearn-color-text-on-default-background);\n",
       "}\n",
       "\n",
       "/* On hover, darken the color of the background */\n",
       "#sk-container-id-1 div.sk-label:hover label.sk-toggleable__label {\n",
       "  color: var(--sklearn-color-text);\n",
       "  background-color: var(--sklearn-color-unfitted-level-2);\n",
       "}\n",
       "\n",
       "/* Label box, darken color on hover, fitted */\n",
       "#sk-container-id-1 div.sk-label.fitted:hover label.sk-toggleable__label.fitted {\n",
       "  color: var(--sklearn-color-text);\n",
       "  background-color: var(--sklearn-color-fitted-level-2);\n",
       "}\n",
       "\n",
       "/* Estimator label */\n",
       "\n",
       "#sk-container-id-1 div.sk-label label {\n",
       "  font-family: monospace;\n",
       "  font-weight: bold;\n",
       "  display: inline-block;\n",
       "  line-height: 1.2em;\n",
       "}\n",
       "\n",
       "#sk-container-id-1 div.sk-label-container {\n",
       "  text-align: center;\n",
       "}\n",
       "\n",
       "/* Estimator-specific */\n",
       "#sk-container-id-1 div.sk-estimator {\n",
       "  font-family: monospace;\n",
       "  border: 1px dotted var(--sklearn-color-border-box);\n",
       "  border-radius: 0.25em;\n",
       "  box-sizing: border-box;\n",
       "  margin-bottom: 0.5em;\n",
       "  /* unfitted */\n",
       "  background-color: var(--sklearn-color-unfitted-level-0);\n",
       "}\n",
       "\n",
       "#sk-container-id-1 div.sk-estimator.fitted {\n",
       "  /* fitted */\n",
       "  background-color: var(--sklearn-color-fitted-level-0);\n",
       "}\n",
       "\n",
       "/* on hover */\n",
       "#sk-container-id-1 div.sk-estimator:hover {\n",
       "  /* unfitted */\n",
       "  background-color: var(--sklearn-color-unfitted-level-2);\n",
       "}\n",
       "\n",
       "#sk-container-id-1 div.sk-estimator.fitted:hover {\n",
       "  /* fitted */\n",
       "  background-color: var(--sklearn-color-fitted-level-2);\n",
       "}\n",
       "\n",
       "/* Specification for estimator info (e.g. \"i\" and \"?\") */\n",
       "\n",
       "/* Common style for \"i\" and \"?\" */\n",
       "\n",
       ".sk-estimator-doc-link,\n",
       "a:link.sk-estimator-doc-link,\n",
       "a:visited.sk-estimator-doc-link {\n",
       "  float: right;\n",
       "  font-size: smaller;\n",
       "  line-height: 1em;\n",
       "  font-family: monospace;\n",
       "  background-color: var(--sklearn-color-background);\n",
       "  border-radius: 1em;\n",
       "  height: 1em;\n",
       "  width: 1em;\n",
       "  text-decoration: none !important;\n",
       "  margin-left: 1ex;\n",
       "  /* unfitted */\n",
       "  border: var(--sklearn-color-unfitted-level-1) 1pt solid;\n",
       "  color: var(--sklearn-color-unfitted-level-1);\n",
       "}\n",
       "\n",
       ".sk-estimator-doc-link.fitted,\n",
       "a:link.sk-estimator-doc-link.fitted,\n",
       "a:visited.sk-estimator-doc-link.fitted {\n",
       "  /* fitted */\n",
       "  border: var(--sklearn-color-fitted-level-1) 1pt solid;\n",
       "  color: var(--sklearn-color-fitted-level-1);\n",
       "}\n",
       "\n",
       "/* On hover */\n",
       "div.sk-estimator:hover .sk-estimator-doc-link:hover,\n",
       ".sk-estimator-doc-link:hover,\n",
       "div.sk-label-container:hover .sk-estimator-doc-link:hover,\n",
       ".sk-estimator-doc-link:hover {\n",
       "  /* unfitted */\n",
       "  background-color: var(--sklearn-color-unfitted-level-3);\n",
       "  color: var(--sklearn-color-background);\n",
       "  text-decoration: none;\n",
       "}\n",
       "\n",
       "div.sk-estimator.fitted:hover .sk-estimator-doc-link.fitted:hover,\n",
       ".sk-estimator-doc-link.fitted:hover,\n",
       "div.sk-label-container:hover .sk-estimator-doc-link.fitted:hover,\n",
       ".sk-estimator-doc-link.fitted:hover {\n",
       "  /* fitted */\n",
       "  background-color: var(--sklearn-color-fitted-level-3);\n",
       "  color: var(--sklearn-color-background);\n",
       "  text-decoration: none;\n",
       "}\n",
       "\n",
       "/* Span, style for the box shown on hovering the info icon */\n",
       ".sk-estimator-doc-link span {\n",
       "  display: none;\n",
       "  z-index: 9999;\n",
       "  position: relative;\n",
       "  font-weight: normal;\n",
       "  right: .2ex;\n",
       "  padding: .5ex;\n",
       "  margin: .5ex;\n",
       "  width: min-content;\n",
       "  min-width: 20ex;\n",
       "  max-width: 50ex;\n",
       "  color: var(--sklearn-color-text);\n",
       "  box-shadow: 2pt 2pt 4pt #999;\n",
       "  /* unfitted */\n",
       "  background: var(--sklearn-color-unfitted-level-0);\n",
       "  border: .5pt solid var(--sklearn-color-unfitted-level-3);\n",
       "}\n",
       "\n",
       ".sk-estimator-doc-link.fitted span {\n",
       "  /* fitted */\n",
       "  background: var(--sklearn-color-fitted-level-0);\n",
       "  border: var(--sklearn-color-fitted-level-3);\n",
       "}\n",
       "\n",
       ".sk-estimator-doc-link:hover span {\n",
       "  display: block;\n",
       "}\n",
       "\n",
       "/* \"?\"-specific style due to the `<a>` HTML tag */\n",
       "\n",
       "#sk-container-id-1 a.estimator_doc_link {\n",
       "  float: right;\n",
       "  font-size: 1rem;\n",
       "  line-height: 1em;\n",
       "  font-family: monospace;\n",
       "  background-color: var(--sklearn-color-background);\n",
       "  border-radius: 1rem;\n",
       "  height: 1rem;\n",
       "  width: 1rem;\n",
       "  text-decoration: none;\n",
       "  /* unfitted */\n",
       "  color: var(--sklearn-color-unfitted-level-1);\n",
       "  border: var(--sklearn-color-unfitted-level-1) 1pt solid;\n",
       "}\n",
       "\n",
       "#sk-container-id-1 a.estimator_doc_link.fitted {\n",
       "  /* fitted */\n",
       "  border: var(--sklearn-color-fitted-level-1) 1pt solid;\n",
       "  color: var(--sklearn-color-fitted-level-1);\n",
       "}\n",
       "\n",
       "/* On hover */\n",
       "#sk-container-id-1 a.estimator_doc_link:hover {\n",
       "  /* unfitted */\n",
       "  background-color: var(--sklearn-color-unfitted-level-3);\n",
       "  color: var(--sklearn-color-background);\n",
       "  text-decoration: none;\n",
       "}\n",
       "\n",
       "#sk-container-id-1 a.estimator_doc_link.fitted:hover {\n",
       "  /* fitted */\n",
       "  background-color: var(--sklearn-color-fitted-level-3);\n",
       "}\n",
       "</style><div id=\"sk-container-id-1\" class=\"sk-top-container\"><div class=\"sk-text-repr-fallback\"><pre>RandomForestClassifier(n_estimators=50)</pre><b>In a Jupyter environment, please rerun this cell to show the HTML representation or trust the notebook. <br />On GitHub, the HTML representation is unable to render, please try loading this page with nbviewer.org.</b></div><div class=\"sk-container\" hidden><div class=\"sk-item\"><div class=\"sk-estimator fitted sk-toggleable\"><input class=\"sk-toggleable__control sk-hidden--visually\" id=\"sk-estimator-id-1\" type=\"checkbox\" checked><label for=\"sk-estimator-id-1\" class=\"sk-toggleable__label fitted sk-toggleable__label-arrow fitted\">&nbsp;&nbsp;RandomForestClassifier<a class=\"sk-estimator-doc-link fitted\" rel=\"noreferrer\" target=\"_blank\" href=\"https://scikit-learn.org/1.4/modules/generated/sklearn.ensemble.RandomForestClassifier.html\">?<span>Documentation for RandomForestClassifier</span></a><span class=\"sk-estimator-doc-link fitted\">i<span>Fitted</span></span></label><div class=\"sk-toggleable__content fitted\"><pre>RandomForestClassifier(n_estimators=50)</pre></div> </div></div></div></div>"
      ],
      "text/plain": [
       "RandomForestClassifier(n_estimators=50)"
      ]
     },
     "execution_count": 7,
     "metadata": {},
     "output_type": "execute_result"
    }
   ],
   "source": [
    "X_train, X_test, Y_train, Y_test = train_test_split(X, Y, test_size=0.3, random_state=42)\n",
    "\n",
    "model = RandomForestClassifier(n_estimators=50)\n",
    "model.fit(X_train, Y_train)"
   ]
  },
  {
   "cell_type": "markdown",
   "id": "8f7e711a-1b96-4fd5-a5ef-7dd1ce2450df",
   "metadata": {},
   "source": [
    "### Predict test set from the model and check accuracy"
   ]
  },
  {
   "cell_type": "code",
   "execution_count": 8,
   "id": "459a9172-5920-4a62-8aa2-21f7edb11519",
   "metadata": {},
   "outputs": [],
   "source": [
    "predict = model.predict(X_test)"
   ]
  },
  {
   "cell_type": "code",
   "execution_count": 9,
   "id": "6acf19d7-cd0b-4024-a3f2-9da0040f64f0",
   "metadata": {},
   "outputs": [
    {
     "data": {
      "text/plain": [
       "0.6567957479119211"
      ]
     },
     "execution_count": 9,
     "metadata": {},
     "output_type": "execute_result"
    }
   ],
   "source": [
    "accuracy_score(Y_test, predict)"
   ]
  },
  {
   "cell_type": "code",
   "execution_count": 10,
   "id": "771c79c7-a204-4137-a7bd-0749e4128613",
   "metadata": {},
   "outputs": [
    {
     "data": {
      "text/plain": [
       "array([[284,   0,   0,   0,   0],\n",
       "       [  0,  38, 248,   0,   0],\n",
       "       [  0, 200,  42,   0,   0],\n",
       "       [  1,   0,   0, 263,   0],\n",
       "       [  1,   0,   2,   0, 238]], dtype=int64)"
      ]
     },
     "execution_count": 10,
     "metadata": {},
     "output_type": "execute_result"
    }
   ],
   "source": [
    "confusion_matrix(Y_test, predict)"
   ]
  },
  {
   "cell_type": "code",
   "execution_count": 11,
   "id": "b9223f11-eedc-42ac-bc27-a8a794bdfe79",
   "metadata": {},
   "outputs": [
    {
     "name": "stdout",
     "output_type": "stream",
     "text": [
      "              precision    recall  f1-score   support\n",
      "\n",
      "           1       0.99      1.00      1.00       284\n",
      "           2       0.16      0.13      0.15       286\n",
      "           3       0.14      0.17      0.16       242\n",
      "           4       1.00      1.00      1.00       264\n",
      "           5       1.00      0.99      0.99       241\n",
      "\n",
      "    accuracy                           0.66      1317\n",
      "   macro avg       0.66      0.66      0.66      1317\n",
      "weighted avg       0.66      0.66      0.66      1317\n",
      "\n"
     ]
    }
   ],
   "source": [
    "print(classification_report(Y_test, predict))"
   ]
  },
  {
   "cell_type": "markdown",
   "id": "74a50c21-beaa-40f5-b1ef-aa9d1ea0a4f3",
   "metadata": {},
   "source": [
    "### Cross validation "
   ]
  },
  {
   "cell_type": "code",
   "execution_count": 12,
   "id": "06e250dc-e493-494e-b002-54c16303bd6e",
   "metadata": {},
   "outputs": [
    {
     "name": "stdout",
     "output_type": "stream",
     "text": [
      "Cross-validation scores: [0.80182232 0.74031891 0.74601367 0.76282782 0.75940707]\n",
      "Mean cross-validation score: 0.7620779578340947\n"
     ]
    }
   ],
   "source": [
    "scores = cross_val_score(model, X, Y, cv=5) # 5-fold cross-validation\n",
    "\n",
    "print(\"Cross-validation scores:\", scores)\n",
    "print(\"Mean cross-validation score:\", scores.mean())"
   ]
  },
  {
   "cell_type": "markdown",
   "id": "fe4daddd-edd6-45c0-bc24-4f131e12dfa1",
   "metadata": {},
   "source": [
    "## Train the Model - Finding the BEST Case"
   ]
  },
  {
   "cell_type": "code",
   "execution_count": 13,
   "id": "a7f61a3d-ecd4-4887-9bd5-f12c725dec77",
   "metadata": {},
   "outputs": [],
   "source": [
    "X_train, X_test, Y_train, Y_test = train_test_split(X, Y, test_size=0.4, random_state=42)"
   ]
  },
  {
   "cell_type": "markdown",
   "id": "8ea15304-64b9-4178-a688-8d29624b68be",
   "metadata": {},
   "source": [
    "### Find: Test set and Training set split value"
   ]
  },
  {
   "cell_type": "code",
   "execution_count": 14,
   "id": "b8426305-94fb-4df4-84cc-8e3f16022500",
   "metadata": {},
   "outputs": [
    {
     "data": {
      "image/png": "[encoded data removed]",
      "text/plain": [
       "<Figure size 1000x600 with 1 Axes>"
      ]
     },
     "metadata": {},
     "output_type": "display_data"
    }
   ],
   "source": [
    "test_size_range = np.arange(0.2, 0.5, 0.05)\n",
    "test_size_scores = []\n",
    "\n",
    "for test_size in test_size_range:\n",
    "    X_train, X_test, Y_train, Y_test = train_test_split(X, Y, test_size=test_size, random_state=42)\n",
    "    modelRF = RandomForestClassifier(n_estimators=5, random_state=42) # 5 decision trees\n",
    "    scores = cross_val_score(modelRF, X_train, Y_train, cv=10)  # 10-fold cross validation\n",
    "    test_size_scores.append(scores.mean()) # Mean accuracy score\n",
    "\n",
    "plt.figure(figsize=(10, 6))\n",
    "plt.plot(test_size_range, test_size_scores, marker='o')\n",
    "plt.title('Accuracy for Test Set Values')\n",
    "plt.xlabel('Test Set')\n",
    "plt.ylabel('Accuracy')\n",
    "plt.grid(True)\n",
    "plt.show()"
   ]
  },
  {
   "cell_type": "code",
   "execution_count": 15,
   "id": "34b9593e-efe2-43f9-9a73-074683cce7ef",
   "metadata": {},
   "outputs": [],
   "source": [
    "X_train, X_test, Y_train, Y_test = train_test_split(X, Y, test_size=0.35, random_state=42)"
   ]
  },
  {
   "cell_type": "markdown",
   "id": "c736d0b1-1d96-48cd-bd15-e0309507f331",
   "metadata": {},
   "source": [
    "### Find: No.of Decision Trees"
   ]
  },
  {
   "cell_type": "code",
   "execution_count": 16,
   "id": "bf36e8fa-b67f-41cd-8f4b-d18178f470b5",
   "metadata": {},
   "outputs": [
    {
     "data": {
      "image/png": "[encoded data removed]",
      "text/plain": [
       "<Figure size 1000x600 with 1 Axes>"
      ]
     },
     "metadata": {},
     "output_type": "display_data"
    },
    {
     "name": "stdout",
     "output_type": "stream",
     "text": [
      "The optimal number of trees is 150 with cross-validation accuracy of 0.6911\n"
     ]
    }
   ],
   "source": [
    "n_estimators_range = range(100, 300, 10)  # n_estimators: DECISION TREES\n",
    "accuracy_scores = []\n",
    "\n",
    "for n_estimator in n_estimators_range:\n",
    "    modelRF = RandomForestClassifier(n_estimators=n_estimator, random_state=42)\n",
    "    scores = cross_val_score(modelRF, X_train, Y_train, cv=10)  # 10-fold cross validation\n",
    "    accuracy_scores.append(scores.mean()) # Mean cross-validation score\n",
    "\n",
    "# Plot the cross-validation accuracy against n_estimators values\n",
    "plt.figure(figsize=(10, 6))\n",
    "plt.plot(n_estimators_range, accuracy_scores, marker='o')\n",
    "plt.title('Accuracy for Different DECISION TREE Values')\n",
    "plt.xlabel('Number of Trees (n_estimators)')\n",
    "plt.ylabel('Accuracy')\n",
    "plt.grid(True)\n",
    "plt.show()\n",
    "\n",
    "# Find and print the optimal n_estimators value\n",
    "optimal_n_estimators = n_estimators_range[np.argmax(accuracy_scores)]\n",
    "print(f\"The optimal number of trees is {optimal_n_estimators} with cross-validation accuracy of {max(accuracy_scores):.4f}\")"
   ]
  },
  {
   "cell_type": "markdown",
   "id": "f95f9756-75f9-4652-bbaf-c68e19664c93",
   "metadata": {},
   "source": [
    "### Find: No.of Cross Validation"
   ]
  },
  {
   "cell_type": "code",
   "execution_count": 19,
   "id": "f8b7179b-52d9-4d22-9447-8fa99d7f2e85",
   "metadata": {},
   "outputs": [
    {
     "data": {
      "image/png": "[encoded data removed]",
      "text/plain": [
       "<Figure size 1000x600 with 1 Axes>"
      ]
     },
     "metadata": {},
     "output_type": "display_data"
    },
    {
     "name": "stdout",
     "output_type": "stream",
     "text": [
      "The optimal number of trees is 2 with cross-validation accuracy of 0.7388\n"
     ]
    }
   ],
   "source": [
    "cross_validation_range = range(2, 30, 1)  \n",
    "accuracy_on_cross_validation = []\n",
    "\n",
    "for kVal in cross_validation_range:\n",
    "    modelRF = RandomForestClassifier(n_estimators=5, random_state=42) # 5 decision trees\n",
    "    scores = cross_val_score(modelRF, X_train, Y_train, cv=kVal)  \n",
    "    accuracy_on_cross_validation.append(scores.mean()) # Mean score\n",
    "       \n",
    "plt.figure(figsize=(10, 6))\n",
    "plt.plot(cross_validation_range, accuracy_on_cross_validation, marker='o')\n",
    "plt.title('Accuracy for Different Cross-Validations')\n",
    "plt.xlabel('Cross-Validation(k)')\n",
    "plt.ylabel('Accuracy')\n",
    "plt.grid(True)\n",
    "plt.show()\n",
    "\n",
    "# Find and print the optimal n_estimators value\n",
    "optimal_n_estimators = cross_validation_range[np.argmax(accuracy_on_cross_validation)]\n",
    "print(f\"The optimal number of trees is {optimal_n_estimators} with cross-validation accuracy of {max(accuracy_on_cross_validation):.4f}\")"
   ]
  },
  {
   "cell_type": "markdown",
   "id": "a07325ce-e1bf-4de9-8dc9-e029ed791891",
   "metadata": {},
   "source": [
    "# Final Model"
   ]
  },
  {
   "cell_type": "code",
   "execution_count": 27,
   "id": "c837ce19-1be9-4284-86f9-bca2a38354db",
   "metadata": {},
   "outputs": [
    {
     "name": "stdout",
     "output_type": "stream",
     "text": [
      "Cross-validation scores: [0.74283854 0.74136808]\n",
      "Mean cross-validation score: 0.7421033099212813\n"
     ]
    }
   ],
   "source": [
    "X_train, X_test, Y_train, Y_test = train_test_split(X, Y, test_size=0.3, random_state=42)\n",
    "model = RandomForestClassifier(n_estimators=100, random_state=42)\n",
    "scoreFinal = cross_val_score(modelRF, X_train, Y_train, cv=2)  \n",
    "\n",
    "print(\"Cross-validation scores:\", scoreFinal)\n",
    "print(\"Mean cross-validation score:\", scoreFinal.mean())"
   ]
  },
  {
   "cell_type": "markdown",
   "id": "445a6dca-71f3-4816-976d-5988a745fc0b",
   "metadata": {},
   "source": [
    "# 10-Cross Validations"
   ]
  },
  {
   "cell_type": "code",
   "execution_count": 28,
   "id": "e0319b48-3279-4bda-9e7a-bb43cb4a8878",
   "metadata": {},
   "outputs": [
    {
     "name": "stdout",
     "output_type": "stream",
     "text": [
      "Cross-validation scores: [0.7012987  0.72638436 0.71009772 0.68078176 0.6742671  0.67752443\n",
      " 0.69055375 0.68729642 0.67752443 0.69055375]\n",
      "Mean cross-validation score: 0.691628241465375\n"
     ]
    }
   ],
   "source": [
    "X_train, X_test, Y_train, Y_test = train_test_split(X, Y, test_size=0.3, random_state=42)\n",
    "model = RandomForestClassifier(n_estimators=100, random_state=42)\n",
    "scoreFinal = cross_val_score(modelRF, X_train, Y_train, cv=10)  \n",
    "\n",
    "print(\"Cross-validation scores:\", scoreFinal)\n",
    "print(\"Mean cross-validation score:\", scoreFinal.mean())"
   ]
  }
 ],
 "metadata": {
  "kernelspec": {
   "display_name": "Python 3 (ipykernel)",
   "language": "python",
   "name": "python3"
  },
  "language_info": {
   "codemirror_mode": {
    "name": "ipython",
    "version": 3
   },
   "file_extension": ".py",
   "mimetype": "text/x-python",
   "name": "python",
   "nbconvert_exporter": "python",
   "pygments_lexer": "ipython3",
   "version": "3.12.3"
  }
 },
 "nbformat": 4,
 "nbformat_minor": 5
}
