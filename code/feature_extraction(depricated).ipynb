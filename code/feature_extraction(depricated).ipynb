{
 "cells": [
  {
   "cell_type": "code",
   "execution_count": 2,
   "metadata": {},
   "outputs": [
    {
     "name": "stderr",
     "output_type": "stream",
     "text": [
      "C:\\Users\\USER\\AppData\\Local\\Temp\\ipykernel_7240\\2196209655.py:27: FutureWarning: Series.__getitem__ treating keys as positions is deprecated. In a future version, integer keys will always be treated as labels (consistent with DataFrame behavior). To access a value by position, use `ser.iloc[pos]`\n",
      "  center = data[i]\n",
      "C:\\Users\\USER\\AppData\\Local\\Temp\\ipykernel_7240\\2196209655.py:28: FutureWarning: Series.__getitem__ treating keys as positions is deprecated. In a future version, integer keys will always be treated as labels (consistent with DataFrame behavior). To access a value by position, use `ser.iloc[pos]`\n",
      "  binary_string = ''.join(['1' if center <= data[j] else '0' for j in [i-1, i+1]])\n"
     ]
    },
    {
     "name": "stdout",
     "output_type": "stream",
     "text": [
      "          mean   std_dev    energy   entropy  num_peaks  lbp_0  lbp_1  \\\n",
      "0     0.094581  0.058153  0.049309  1.097330        0.0      2      3   \n",
      "1     0.096067  0.076631  0.060405      -inf        0.0      2      3   \n",
      "2     0.093970  0.051851  0.046076  1.178120        1.0      0      3   \n",
      "3     0.039831  0.020652  0.008052  1.217346        1.0      0      3   \n",
      "4    -0.001684  0.078266  0.024514      -inf        0.0      3      1   \n",
      "...        ...       ...       ...       ...        ...    ...    ...   \n",
      "5030  0.356222  0.239608  0.737225      -inf        1.0      0      3   \n",
      "5031  0.251960  0.100256  0.294140  1.304683        0.0      2      3   \n",
      "5032  0.201326  0.113950  0.214068  1.206893        0.0      2      3   \n",
      "5033  0.144642  0.125085  0.146270      -inf        0.0      2      3   \n",
      "5034 -0.001955  0.109112  0.047637      -inf        0.0      3      1   \n",
      "\n",
      "      ClassLabel  \n",
      "0              1  \n",
      "1              1  \n",
      "2              1  \n",
      "3              1  \n",
      "4              1  \n",
      "...          ...  \n",
      "5030           5  \n",
      "5031           5  \n",
      "5032           5  \n",
      "5033           5  \n",
      "5034           5  \n",
      "\n",
      "[5035 rows x 8 columns]\n"
     ]
    }
   ],
   "source": [
    "import pandas as pd\n",
    "import numpy as np\n",
    "from scipy.stats import entropy\n",
    "from scipy.signal import find_peaks\n",
    "\n",
    "# Load the dataset\n",
    "df = pd.read_csv('Dataset/dataset.csv')\n",
    "\n",
    "# Define a function to extract statistical features\n",
    "def extract_statistical_features(data):\n",
    "    mean = np.mean(data)\n",
    "    std_dev = np.std(data)\n",
    "    energy = np.sum(data**2)\n",
    "    ent = entropy(data)\n",
    "    peaks, _ = find_peaks(data)\n",
    "    num_peaks = len(peaks)\n",
    "    return mean, std_dev, energy, ent, num_peaks\n",
    "\n",
    "# Apply the feature extraction to the dataset\n",
    "statistical_features = df[['X', 'Y', 'Z', 'Mixed']].apply(lambda row: extract_statistical_features(row), axis=1, result_type='expand')\n",
    "statistical_features.columns = ['mean', 'std_dev', 'energy', 'entropy', 'num_peaks']\n",
    "\n",
    "# Define a function to calculate 1D-LBP\n",
    "def calculate_lbp(data):\n",
    "    lbp = []\n",
    "    for i in range(1, len(data) - 1):\n",
    "        center = data[i]\n",
    "        binary_string = ''.join(['1' if center <= data[j] else '0' for j in [i-1, i+1]])\n",
    "        lbp.append(int(binary_string, 2))\n",
    "    return lbp\n",
    "\n",
    "# Apply the 1D-LBP feature extraction to the dataset\n",
    "lbp_features = df[['X', 'Y', 'Z', 'Mixed']].apply(lambda row: calculate_lbp(row), axis=1)\n",
    "lbp_features = pd.DataFrame(lbp_features.tolist())\n",
    "lbp_features.columns = [f'lbp_{i}' for i in range(len(lbp_features.columns))]  # Rename columns to lbp_0, lbp_1, ...\n",
    "\n",
    "# Combine statistical features with 1D-LBP features\n",
    "combined_features = pd.concat([statistical_features, lbp_features], axis=1)\n",
    "\n",
    "# Add the 'ClassLabel' column to the end\n",
    "combined_features['ClassLabel'] = df['ClassLabel']\n",
    "\n",
    "# Display the extracted features\n",
    "print(combined_features)\n"
   ]
  },
  {
   "cell_type": "code",
   "execution_count": 4,
   "metadata": {},
   "outputs": [],
   "source": [
    "# Export the combined features DataFrame to a CSV file\n",
    "combined_features.to_csv('Dataset/ExtractedFeatures.csv', index=False)\n"
   ]
  },
  {
   "cell_type": "code",
   "execution_count": 5,
   "metadata": {},
   "outputs": [
    {
     "name": "stdout",
     "output_type": "stream",
     "text": [
      "          mean  std_dev    energy  entropy  num_peaks\n",
      "0     0.125022      0.0  0.015630      0.0          0\n",
      "1     0.150710      0.0  0.022714      0.0          0\n",
      "2     0.102941      0.0  0.010597      0.0          0\n",
      "3     0.038450      0.0  0.001478      0.0          0\n",
      "4    -0.029148      0.0  0.000850      0.0          0\n",
      "...        ...      ...       ...      ...        ...\n",
      "5030  0.407482      0.0  0.166042      0.0          0\n",
      "5031  0.309154      0.0  0.095577      0.0          0\n",
      "5032  0.295979      0.0  0.087603      0.0          0\n",
      "5033  0.196186      0.0  0.038489      0.0          0\n",
      "5034  0.030525      0.0  0.000932      0.0          0\n",
      "\n",
      "[5035 rows x 5 columns]\n"
     ]
    }
   ],
   "source": [
    "import pandas as pd\n",
    "import numpy as np\n",
    "from scipy.stats import entropy\n",
    "from scipy.signal import find_peaks\n",
    "\n",
    "# Load the dataset\n",
    "df = pd.read_csv('Dataset/dataset.csv')\n",
    "\n",
    "# Define a function to extract statistical features\n",
    "def extract_statistical_features(data):\n",
    "    # Ensure data is a numpy array for numerical operations\n",
    "    data = np.asarray(data)\n",
    "    \n",
    "    mean = np.mean(data)\n",
    "    std_dev = np.std(data)\n",
    "    energy = np.sum(data**2)\n",
    "    \n",
    "    # Add a small value to avoid log(0) issues in entropy calculation\n",
    "    ent = entropy(data + 1e-10)\n",
    "    \n",
    "    peaks, _ = find_peaks(data)\n",
    "    num_peaks = len(peaks)\n",
    "    \n",
    "    return mean, std_dev, energy, ent, num_peaks\n",
    "\n",
    "# Apply the feature extraction to the 'X' column\n",
    "statistical_features = df['X'].apply(lambda x: extract_statistical_features([x]))\n",
    "\n",
    "# Convert the results to a DataFrame\n",
    "statistical_features_df = pd.DataFrame(statistical_features.tolist(), columns=['mean', 'std_dev', 'energy', 'entropy', 'num_peaks'])\n",
    "\n",
    "\n",
    "\n",
    "print(statistical_features_df)\n",
    "\n",
    "\n",
    "# Add the 'ClassLabel' column to the end\n",
    "statistical_features_df['ClassLabel'] = df['ClassLabel']\n",
    "# Save the extracted features to a new CSV file\n",
    "statistical_features_df.to_csv('Dataset/statistical_features_X.csv', index=False)\n",
    "\n"
   ]
  },
  {
   "cell_type": "code",
   "execution_count": null,
   "metadata": {},
   "outputs": [],
   "source": [
    "statistical_features.to_csv('Dataset/statistical_features_X.csv', index=False)\n"
   ]
  }
 ],
 "metadata": {
  "kernelspec": {
   "display_name": "Python 3 (ipykernel)",
   "language": "python",
   "name": "python3"
  },
  "language_info": {
   "codemirror_mode": {
    "name": "ipython",
    "version": 3
   },
   "file_extension": ".py",
   "mimetype": "text/x-python",
   "name": "python",
   "nbconvert_exporter": "python",
   "pygments_lexer": "ipython3",
   "version": "3.11.4"
  }
 },
 "nbformat": 4,
 "nbformat_minor": 4
}
