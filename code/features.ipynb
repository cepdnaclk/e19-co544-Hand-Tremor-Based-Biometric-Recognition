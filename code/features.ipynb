{
 "cells": [
  {
   "cell_type": "code",
   "execution_count": 1,
   "id": "af8f8872-62b0-4f3a-8d9a-eb2536302fb6",
   "metadata": {},
   "outputs": [],
   "source": [
    "import pandas as pd\n",
    "import numpy as np\n",
    "import matplotlib.pyplot as plt\n",
    "from scipy.signal import find_peaks"
   ]
  },
  {
   "cell_type": "code",
   "execution_count": 2,
   "id": "ff3b57e6-62ea-4b11-a144-d2c1ef86a6b9",
   "metadata": {},
   "outputs": [
    {
     "data": {
      "text/html": [
       "<div>\n",
       "<style scoped>\n",
       "    .dataframe tbody tr th:only-of-type {\n",
       "        vertical-align: middle;\n",
       "    }\n",
       "\n",
       "    .dataframe tbody tr th {\n",
       "        vertical-align: top;\n",
       "    }\n",
       "\n",
       "    .dataframe thead th {\n",
       "        text-align: right;\n",
       "    }\n",
       "</style>\n",
       "<table border=\"1\" class=\"dataframe\">\n",
       "  <thead>\n",
       "    <tr style=\"text-align: right;\">\n",
       "      <th></th>\n",
       "      <th>X</th>\n",
       "      <th>Y</th>\n",
       "      <th>Z</th>\n",
       "      <th>Mixed</th>\n",
       "      <th>ClassLabel</th>\n",
       "    </tr>\n",
       "  </thead>\n",
       "  <tbody>\n",
       "    <tr>\n",
       "      <th>0</th>\n",
       "      <td>0.125022</td>\n",
       "      <td>0.094986</td>\n",
       "      <td>0.001297</td>\n",
       "      <td>0.157018</td>\n",
       "      <td>1</td>\n",
       "    </tr>\n",
       "    <tr>\n",
       "      <th>1</th>\n",
       "      <td>0.150710</td>\n",
       "      <td>0.083282</td>\n",
       "      <td>-0.023514</td>\n",
       "      <td>0.173788</td>\n",
       "      <td>1</td>\n",
       "    </tr>\n",
       "    <tr>\n",
       "      <th>2</th>\n",
       "      <td>0.102941</td>\n",
       "      <td>0.111084</td>\n",
       "      <td>0.010075</td>\n",
       "      <td>0.151782</td>\n",
       "      <td>1</td>\n",
       "    </tr>\n",
       "    <tr>\n",
       "      <th>3</th>\n",
       "      <td>0.038450</td>\n",
       "      <td>0.049911</td>\n",
       "      <td>0.007511</td>\n",
       "      <td>0.063451</td>\n",
       "      <td>1</td>\n",
       "    </tr>\n",
       "    <tr>\n",
       "      <th>4</th>\n",
       "      <td>-0.029148</td>\n",
       "      <td>-0.105423</td>\n",
       "      <td>0.017124</td>\n",
       "      <td>0.110711</td>\n",
       "      <td>1</td>\n",
       "    </tr>\n",
       "  </tbody>\n",
       "</table>\n",
       "</div>"
      ],
      "text/plain": [
       "          X         Y         Z     Mixed  ClassLabel\n",
       "0  0.125022  0.094986  0.001297  0.157018           1\n",
       "1  0.150710  0.083282 -0.023514  0.173788           1\n",
       "2  0.102941  0.111084  0.010075  0.151782           1\n",
       "3  0.038450  0.049911  0.007511  0.063451           1\n",
       "4 -0.029148 -0.105423  0.017124  0.110711           1"
      ]
     },
     "execution_count": 2,
     "metadata": {},
     "output_type": "execute_result"
    }
   ],
   "source": [
    "df = pd.read_csv('Dataset/dataset.csv')\n",
    "df.head()"
   ]
  },
  {
   "cell_type": "code",
   "execution_count": 3,
   "id": "d3065c44-5245-4044-8408-6b19b5aa4b59",
   "metadata": {},
   "outputs": [
    {
     "data": {
      "text/html": [
       "<div>\n",
       "<style scoped>\n",
       "    .dataframe tbody tr th:only-of-type {\n",
       "        vertical-align: middle;\n",
       "    }\n",
       "\n",
       "    .dataframe tbody tr th {\n",
       "        vertical-align: top;\n",
       "    }\n",
       "\n",
       "    .dataframe thead th {\n",
       "        text-align: right;\n",
       "    }\n",
       "</style>\n",
       "<table border=\"1\" class=\"dataframe\">\n",
       "  <thead>\n",
       "    <tr style=\"text-align: right;\">\n",
       "      <th></th>\n",
       "      <th>X</th>\n",
       "      <th>Y</th>\n",
       "      <th>Z</th>\n",
       "      <th>Mixed</th>\n",
       "      <th>ClassLabel</th>\n",
       "    </tr>\n",
       "  </thead>\n",
       "  <tbody>\n",
       "    <tr>\n",
       "      <th>0</th>\n",
       "      <td>0.125022</td>\n",
       "      <td>0.094986</td>\n",
       "      <td>0.001297</td>\n",
       "      <td>0.157018</td>\n",
       "      <td>1</td>\n",
       "    </tr>\n",
       "    <tr>\n",
       "      <th>1</th>\n",
       "      <td>0.150710</td>\n",
       "      <td>0.083282</td>\n",
       "      <td>-0.023514</td>\n",
       "      <td>0.173788</td>\n",
       "      <td>1</td>\n",
       "    </tr>\n",
       "    <tr>\n",
       "      <th>2</th>\n",
       "      <td>0.102941</td>\n",
       "      <td>0.111084</td>\n",
       "      <td>0.010075</td>\n",
       "      <td>0.151782</td>\n",
       "      <td>1</td>\n",
       "    </tr>\n",
       "    <tr>\n",
       "      <th>3</th>\n",
       "      <td>0.038450</td>\n",
       "      <td>0.049911</td>\n",
       "      <td>0.007511</td>\n",
       "      <td>0.063451</td>\n",
       "      <td>1</td>\n",
       "    </tr>\n",
       "    <tr>\n",
       "      <th>4</th>\n",
       "      <td>-0.029148</td>\n",
       "      <td>-0.105423</td>\n",
       "      <td>0.017124</td>\n",
       "      <td>0.110711</td>\n",
       "      <td>1</td>\n",
       "    </tr>\n",
       "  </tbody>\n",
       "</table>\n",
       "</div>"
      ],
      "text/plain": [
       "          X         Y         Z     Mixed  ClassLabel\n",
       "0  0.125022  0.094986  0.001297  0.157018           1\n",
       "1  0.150710  0.083282 -0.023514  0.173788           1\n",
       "2  0.102941  0.111084  0.010075  0.151782           1\n",
       "3  0.038450  0.049911  0.007511  0.063451           1\n",
       "4 -0.029148 -0.105423  0.017124  0.110711           1"
      ]
     },
     "execution_count": 3,
     "metadata": {},
     "output_type": "execute_result"
    }
   ],
   "source": [
    "person1 = df[df['ClassLabel'] == 1]\n",
    "person1.head()"
   ]
  },
  {
   "cell_type": "code",
   "execution_count": 4,
   "id": "26ee4898-e507-4f8a-8c71-2005b9b14fca",
   "metadata": {},
   "outputs": [],
   "source": [
    "y = person1['X'].values"
   ]
  },
  {
   "cell_type": "code",
   "execution_count": 5,
   "id": "d317d52f-9812-4da0-a3cc-eeff7e2ca6ba",
   "metadata": {},
   "outputs": [],
   "source": [
    "x = [i for i in range(100)]"
   ]
  },
  {
   "cell_type": "code",
   "execution_count": 6,
   "id": "0c506413-e0be-4499-be97-660993073c94",
   "metadata": {},
   "outputs": [
    {
     "data": {
      "text/plain": [
       "[<matplotlib.lines.Line2D at 0x1981700a650>]"
      ]
     },
     "execution_count": 6,
     "metadata": {},
     "output_type": "execute_result"
    },
    {
     "data": {
      "image/png": "[encoded data removed]",
      "text/plain": [
       "<Figure size 640x480 with 1 Axes>"
      ]
     },
     "metadata": {},
     "output_type": "display_data"
    }
   ],
   "source": [
    "plt.plot(x,y[:100])"
   ]
  },
  {
   "cell_type": "code",
   "execution_count": 7,
   "id": "aa0d80a7-cf26-4562-a223-d18c0f049a24",
   "metadata": {},
   "outputs": [
    {
     "data": {
      "text/plain": [
       "[<matplotlib.lines.Line2D at 0x198170fcd30>]"
      ]
     },
     "execution_count": 7,
     "metadata": {},
     "output_type": "execute_result"
    },
    {
     "data": {
      "image/png": "[encoded data removed]",
      "text/plain": [
       "<Figure size 640x480 with 1 Axes>"
      ]
     },
     "metadata": {},
     "output_type": "display_data"
    }
   ],
   "source": [
    "plt.plot(x,y[100:200])"
   ]
  },
  {
   "cell_type": "code",
   "execution_count": 8,
   "id": "e83cc2a8-7732-456d-9655-3c46b041571d",
   "metadata": {},
   "outputs": [
    {
     "data": {
      "text/html": [
       "<div>\n",
       "<style scoped>\n",
       "    .dataframe tbody tr th:only-of-type {\n",
       "        vertical-align: middle;\n",
       "    }\n",
       "\n",
       "    .dataframe tbody tr th {\n",
       "        vertical-align: top;\n",
       "    }\n",
       "\n",
       "    .dataframe thead th {\n",
       "        text-align: right;\n",
       "    }\n",
       "</style>\n",
       "<table border=\"1\" class=\"dataframe\">\n",
       "  <thead>\n",
       "    <tr style=\"text-align: right;\">\n",
       "      <th></th>\n",
       "      <th>X</th>\n",
       "      <th>Y</th>\n",
       "      <th>Z</th>\n",
       "      <th>Mixed</th>\n",
       "      <th>ClassLabel</th>\n",
       "    </tr>\n",
       "  </thead>\n",
       "  <tbody>\n",
       "    <tr>\n",
       "      <th>990</th>\n",
       "      <td>-0.070675</td>\n",
       "      <td>-0.019684</td>\n",
       "      <td>0.053207</td>\n",
       "      <td>0.090628</td>\n",
       "      <td>2</td>\n",
       "    </tr>\n",
       "    <tr>\n",
       "      <th>991</th>\n",
       "      <td>0.004678</td>\n",
       "      <td>0.007584</td>\n",
       "      <td>0.003845</td>\n",
       "      <td>0.009705</td>\n",
       "      <td>2</td>\n",
       "    </tr>\n",
       "    <tr>\n",
       "      <th>992</th>\n",
       "      <td>0.027570</td>\n",
       "      <td>0.055161</td>\n",
       "      <td>-0.024719</td>\n",
       "      <td>0.066437</td>\n",
       "      <td>2</td>\n",
       "    </tr>\n",
       "    <tr>\n",
       "      <th>993</th>\n",
       "      <td>0.005837</td>\n",
       "      <td>-0.010391</td>\n",
       "      <td>-0.033699</td>\n",
       "      <td>0.035745</td>\n",
       "      <td>2</td>\n",
       "    </tr>\n",
       "    <tr>\n",
       "      <th>994</th>\n",
       "      <td>3490.000000</td>\n",
       "      <td>-0.025742</td>\n",
       "      <td>-0.022507</td>\n",
       "      <td>0.034195</td>\n",
       "      <td>2</td>\n",
       "    </tr>\n",
       "  </tbody>\n",
       "</table>\n",
       "</div>"
      ],
      "text/plain": [
       "               X         Y         Z     Mixed  ClassLabel\n",
       "990    -0.070675 -0.019684  0.053207  0.090628           2\n",
       "991     0.004678  0.007584  0.003845  0.009705           2\n",
       "992     0.027570  0.055161 -0.024719  0.066437           2\n",
       "993     0.005837 -0.010391 -0.033699  0.035745           2\n",
       "994  3490.000000 -0.025742 -0.022507  0.034195           2"
      ]
     },
     "execution_count": 8,
     "metadata": {},
     "output_type": "execute_result"
    }
   ],
   "source": [
    "person2 = df[df['ClassLabel'] == 2]\n",
    "person2.head()"
   ]
  },
  {
   "cell_type": "code",
   "execution_count": 9,
   "id": "f19dbb0c-fcfd-40f8-ac6e-e8bb9f3d4c13",
   "metadata": {},
   "outputs": [],
   "source": [
    "y2 = person2['X'].values"
   ]
  },
  {
   "cell_type": "code",
   "execution_count": 10,
   "id": "36bec91a-9596-4af7-8318-4ccdccf15ffb",
   "metadata": {},
   "outputs": [],
   "source": [
    "def remove_outliers(df, column):\n",
    "    Q1 = df[column].quantile(0.25)\n",
    "    Q3 = df[column].quantile(0.75)\n",
    "    IQR = Q3 - Q1\n",
    "    lower_bound = Q1 - 1.5 * IQR\n",
    "    upper_bound = Q3 + 1.5 * IQR\n",
    "    return df[(df[column] >= lower_bound) & (df[column] <= upper_bound)]"
   ]
  },
  {
   "cell_type": "code",
   "execution_count": 11,
   "id": "af220f44-279e-4ae9-ab21-c48ed0849a6c",
   "metadata": {},
   "outputs": [],
   "source": [
    "y2 = remove_outliers(person2, 'X')"
   ]
  },
  {
   "cell_type": "code",
   "execution_count": 12,
   "id": "64d7d8ee-71dc-4fa8-831b-0c4897c015e4",
   "metadata": {},
   "outputs": [
    {
     "data": {
      "text/plain": [
       "[<matplotlib.lines.Line2D at 0x19817166200>,\n",
       " <matplotlib.lines.Line2D at 0x19817166290>,\n",
       " <matplotlib.lines.Line2D at 0x19817166380>,\n",
       " <matplotlib.lines.Line2D at 0x19817166470>,\n",
       " <matplotlib.lines.Line2D at 0x1987fae17b0>]"
      ]
     },
     "execution_count": 12,
     "metadata": {},
     "output_type": "execute_result"
    },
    {
     "data": {
      "image/png": "[encoded data removed]",
      "text/plain": [
       "<Figure size 640x480 with 1 Axes>"
      ]
     },
     "metadata": {},
     "output_type": "display_data"
    }
   ],
   "source": [
    "plt.plot(x,y2[:100])"
   ]
  },
  {
   "cell_type": "code",
   "execution_count": 13,
   "id": "ec047c85-7a1c-42d8-acca-2f4b89f46775",
   "metadata": {},
   "outputs": [
    {
     "data": {
      "text/html": [
       "<div>\n",
       "<style scoped>\n",
       "    .dataframe tbody tr th:only-of-type {\n",
       "        vertical-align: middle;\n",
       "    }\n",
       "\n",
       "    .dataframe tbody tr th {\n",
       "        vertical-align: top;\n",
       "    }\n",
       "\n",
       "    .dataframe thead th {\n",
       "        text-align: right;\n",
       "    }\n",
       "</style>\n",
       "<table border=\"1\" class=\"dataframe\">\n",
       "  <thead>\n",
       "    <tr style=\"text-align: right;\">\n",
       "      <th></th>\n",
       "      <th>X</th>\n",
       "      <th>Y</th>\n",
       "      <th>Z</th>\n",
       "      <th>Mixed</th>\n",
       "      <th>ClassLabel</th>\n",
       "    </tr>\n",
       "  </thead>\n",
       "  <tbody>\n",
       "    <tr>\n",
       "      <th>count</th>\n",
       "      <td>5035.000000</td>\n",
       "      <td>5035.000000</td>\n",
       "      <td>5.035000e+03</td>\n",
       "      <td>5035.000000</td>\n",
       "      <td>5035.000000</td>\n",
       "    </tr>\n",
       "    <tr>\n",
       "      <th>mean</th>\n",
       "      <td>0.521365</td>\n",
       "      <td>4.697800</td>\n",
       "      <td>-2.947934e+02</td>\n",
       "      <td>0.244225</td>\n",
       "      <td>3.002781</td>\n",
       "    </tr>\n",
       "    <tr>\n",
       "      <th>std</th>\n",
       "      <td>318.671126</td>\n",
       "      <td>233.800423</td>\n",
       "      <td>2.026480e+04</td>\n",
       "      <td>0.192936</td>\n",
       "      <td>1.409145</td>\n",
       "    </tr>\n",
       "    <tr>\n",
       "      <th>min</th>\n",
       "      <td>-9720.000000</td>\n",
       "      <td>-8850.000000</td>\n",
       "      <td>-1.437653e+06</td>\n",
       "      <td>0.001157</td>\n",
       "      <td>1.000000</td>\n",
       "    </tr>\n",
       "    <tr>\n",
       "      <th>25%</th>\n",
       "      <td>-0.069452</td>\n",
       "      <td>-0.100594</td>\n",
       "      <td>-6.593132e-02</td>\n",
       "      <td>0.094546</td>\n",
       "      <td>2.000000</td>\n",
       "    </tr>\n",
       "    <tr>\n",
       "      <th>50%</th>\n",
       "      <td>-0.001627</td>\n",
       "      <td>0.007843</td>\n",
       "      <td>-3.307343e-03</td>\n",
       "      <td>0.196968</td>\n",
       "      <td>3.000000</td>\n",
       "    </tr>\n",
       "    <tr>\n",
       "      <th>75%</th>\n",
       "      <td>0.071264</td>\n",
       "      <td>0.124863</td>\n",
       "      <td>5.086803e-02</td>\n",
       "      <td>0.343273</td>\n",
       "      <td>4.000000</td>\n",
       "    </tr>\n",
       "    <tr>\n",
       "      <th>max</th>\n",
       "      <td>8960.000000</td>\n",
       "      <td>7630.000000</td>\n",
       "      <td>9.000000e+03</td>\n",
       "      <td>0.995577</td>\n",
       "      <td>5.000000</td>\n",
       "    </tr>\n",
       "  </tbody>\n",
       "</table>\n",
       "</div>"
      ],
      "text/plain": [
       "                 X            Y             Z        Mixed   ClassLabel\n",
       "count  5035.000000  5035.000000  5.035000e+03  5035.000000  5035.000000\n",
       "mean      0.521365     4.697800 -2.947934e+02     0.244225     3.002781\n",
       "std     318.671126   233.800423  2.026480e+04     0.192936     1.409145\n",
       "min   -9720.000000 -8850.000000 -1.437653e+06     0.001157     1.000000\n",
       "25%      -0.069452    -0.100594 -6.593132e-02     0.094546     2.000000\n",
       "50%      -0.001627     0.007843 -3.307343e-03     0.196968     3.000000\n",
       "75%       0.071264     0.124863  5.086803e-02     0.343273     4.000000\n",
       "max    8960.000000  7630.000000  9.000000e+03     0.995577     5.000000"
      ]
     },
     "execution_count": 13,
     "metadata": {},
     "output_type": "execute_result"
    }
   ],
   "source": [
    "df.describe()"
   ]
  },
  {
   "cell_type": "markdown",
   "id": "b53257b6-fcd5-4c58-a851-676a92c76285",
   "metadata": {},
   "source": [
    "## Create Features"
   ]
  },
  {
   "cell_type": "code",
   "execution_count": 14,
   "id": "f51f4467-bfa1-47ad-a925-643dc2f026ba",
   "metadata": {},
   "outputs": [],
   "source": [
    "person1 = df[df['ClassLabel'] == 1]\n",
    "person2 = df[df['ClassLabel'] == 2]\n",
    "person3 = df[df['ClassLabel'] == 2]\n",
    "person4 = df[df['ClassLabel'] == 4]\n",
    "person5 = df[df['ClassLabel'] == 5]"
   ]
  },
  {
   "cell_type": "code",
   "execution_count": 15,
   "id": "734052a0-48dd-46b9-aa6f-ae0a1bc58b96",
   "metadata": {},
   "outputs": [],
   "source": [
    "all_metrics = []"
   ]
  },
  {
   "cell_type": "code",
   "execution_count": 16,
   "id": "abfed33d-d45a-470b-8caf-89733383a1a0",
   "metadata": {},
   "outputs": [
    {
     "data": {
      "text/html": [
       "<div>\n",
       "<style scoped>\n",
       "    .dataframe tbody tr th:only-of-type {\n",
       "        vertical-align: middle;\n",
       "    }\n",
       "\n",
       "    .dataframe tbody tr th {\n",
       "        vertical-align: top;\n",
       "    }\n",
       "\n",
       "    .dataframe thead th {\n",
       "        text-align: right;\n",
       "    }\n",
       "</style>\n",
       "<table border=\"1\" class=\"dataframe\">\n",
       "  <thead>\n",
       "    <tr style=\"text-align: right;\">\n",
       "      <th></th>\n",
       "      <th>X</th>\n",
       "      <th>Y</th>\n",
       "      <th>Z</th>\n",
       "      <th>Mixed</th>\n",
       "      <th>ClassLabel</th>\n",
       "    </tr>\n",
       "  </thead>\n",
       "  <tbody>\n",
       "    <tr>\n",
       "      <th>count</th>\n",
       "      <td>990.000000</td>\n",
       "      <td>990.000000</td>\n",
       "      <td>9.900000e+02</td>\n",
       "      <td>990.000000</td>\n",
       "      <td>990.0</td>\n",
       "    </tr>\n",
       "    <tr>\n",
       "      <th>mean</th>\n",
       "      <td>8.597205</td>\n",
       "      <td>9.358466</td>\n",
       "      <td>-1.461744e+03</td>\n",
       "      <td>0.294312</td>\n",
       "      <td>1.0</td>\n",
       "    </tr>\n",
       "    <tr>\n",
       "      <th>std</th>\n",
       "      <td>253.758023</td>\n",
       "      <td>196.913909</td>\n",
       "      <td>4.569190e+04</td>\n",
       "      <td>0.182525</td>\n",
       "      <td>0.0</td>\n",
       "    </tr>\n",
       "    <tr>\n",
       "      <th>min</th>\n",
       "      <td>-664.000000</td>\n",
       "      <td>-0.935265</td>\n",
       "      <td>-1.437653e+06</td>\n",
       "      <td>0.017688</td>\n",
       "      <td>1.0</td>\n",
       "    </tr>\n",
       "    <tr>\n",
       "      <th>25%</th>\n",
       "      <td>-0.090341</td>\n",
       "      <td>-0.131977</td>\n",
       "      <td>-1.207523e-01</td>\n",
       "      <td>0.159471</td>\n",
       "      <td>1.0</td>\n",
       "    </tr>\n",
       "    <tr>\n",
       "      <th>50%</th>\n",
       "      <td>0.007939</td>\n",
       "      <td>0.020149</td>\n",
       "      <td>-1.439858e-02</td>\n",
       "      <td>0.251552</td>\n",
       "      <td>1.0</td>\n",
       "    </tr>\n",
       "    <tr>\n",
       "      <th>75%</th>\n",
       "      <td>0.112653</td>\n",
       "      <td>0.166428</td>\n",
       "      <td>9.453487e-02</td>\n",
       "      <td>0.386964</td>\n",
       "      <td>1.0</td>\n",
       "    </tr>\n",
       "    <tr>\n",
       "      <th>max</th>\n",
       "      <td>7930.000000</td>\n",
       "      <td>4730.000000</td>\n",
       "      <td>9.920000e+02</td>\n",
       "      <td>0.995177</td>\n",
       "      <td>1.0</td>\n",
       "    </tr>\n",
       "  </tbody>\n",
       "</table>\n",
       "</div>"
      ],
      "text/plain": [
       "                 X            Y             Z       Mixed  ClassLabel\n",
       "count   990.000000   990.000000  9.900000e+02  990.000000       990.0\n",
       "mean      8.597205     9.358466 -1.461744e+03    0.294312         1.0\n",
       "std     253.758023   196.913909  4.569190e+04    0.182525         0.0\n",
       "min    -664.000000    -0.935265 -1.437653e+06    0.017688         1.0\n",
       "25%      -0.090341    -0.131977 -1.207523e-01    0.159471         1.0\n",
       "50%       0.007939     0.020149 -1.439858e-02    0.251552         1.0\n",
       "75%       0.112653     0.166428  9.453487e-02    0.386964         1.0\n",
       "max    7930.000000  4730.000000  9.920000e+02    0.995177         1.0"
      ]
     },
     "execution_count": 16,
     "metadata": {},
     "output_type": "execute_result"
    }
   ],
   "source": [
    "person1.describe()"
   ]
  },
  {
   "cell_type": "code",
   "execution_count": 17,
   "id": "21ad2e7f-3d9c-4535-be7f-76dcce63b523",
   "metadata": {},
   "outputs": [],
   "source": [
    "def remove_outliers_iqr(data, column):\n",
    "    q1 = data[column].quantile(0.25)\n",
    "    q3 = data[column].quantile(0.75)\n",
    "    iqr = q3 - q1\n",
    "    lower_bound = q1 - 1.5 * iqr\n",
    "    upper_bound = q3 + 1.5 * iqr\n",
    "    return data[(data[column] >= lower_bound) & (data[column] <= upper_bound)]\n",
    "\n",
    "for col in ['X', 'Y', 'Z', 'Mixed']:\n",
    "    person1 = remove_outliers_iqr(person1, col)"
   ]
  },
  {
   "cell_type": "code",
   "execution_count": 18,
   "id": "265b4275-d61d-4871-a498-7f5931425b23",
   "metadata": {},
   "outputs": [
    {
     "data": {
      "text/html": [
       "<div>\n",
       "<style scoped>\n",
       "    .dataframe tbody tr th:only-of-type {\n",
       "        vertical-align: middle;\n",
       "    }\n",
       "\n",
       "    .dataframe tbody tr th {\n",
       "        vertical-align: top;\n",
       "    }\n",
       "\n",
       "    .dataframe thead th {\n",
       "        text-align: right;\n",
       "    }\n",
       "</style>\n",
       "<table border=\"1\" class=\"dataframe\">\n",
       "  <thead>\n",
       "    <tr style=\"text-align: right;\">\n",
       "      <th></th>\n",
       "      <th>X</th>\n",
       "      <th>Y</th>\n",
       "      <th>Z</th>\n",
       "      <th>Mixed</th>\n",
       "      <th>ClassLabel</th>\n",
       "    </tr>\n",
       "  </thead>\n",
       "  <tbody>\n",
       "    <tr>\n",
       "      <th>count</th>\n",
       "      <td>894.000000</td>\n",
       "      <td>894.000000</td>\n",
       "      <td>894.000000</td>\n",
       "      <td>894.000000</td>\n",
       "      <td>894.0</td>\n",
       "    </tr>\n",
       "    <tr>\n",
       "      <th>mean</th>\n",
       "      <td>0.012167</td>\n",
       "      <td>0.016954</td>\n",
       "      <td>-0.013367</td>\n",
       "      <td>0.260309</td>\n",
       "      <td>1.0</td>\n",
       "    </tr>\n",
       "    <tr>\n",
       "      <th>std</th>\n",
       "      <td>0.151538</td>\n",
       "      <td>0.210303</td>\n",
       "      <td>0.135724</td>\n",
       "      <td>0.135275</td>\n",
       "      <td>0.0</td>\n",
       "    </tr>\n",
       "    <tr>\n",
       "      <th>min</th>\n",
       "      <td>-0.390434</td>\n",
       "      <td>-0.564491</td>\n",
       "      <td>-0.407749</td>\n",
       "      <td>0.017688</td>\n",
       "      <td>1.0</td>\n",
       "    </tr>\n",
       "    <tr>\n",
       "      <th>25%</th>\n",
       "      <td>-0.081545</td>\n",
       "      <td>-0.118315</td>\n",
       "      <td>-0.114347</td>\n",
       "      <td>0.154367</td>\n",
       "      <td>1.0</td>\n",
       "    </tr>\n",
       "    <tr>\n",
       "      <th>50%</th>\n",
       "      <td>0.006878</td>\n",
       "      <td>0.020496</td>\n",
       "      <td>-0.014202</td>\n",
       "      <td>0.238284</td>\n",
       "      <td>1.0</td>\n",
       "    </tr>\n",
       "    <tr>\n",
       "      <th>75%</th>\n",
       "      <td>0.108267</td>\n",
       "      <td>0.154333</td>\n",
       "      <td>0.087854</td>\n",
       "      <td>0.352499</td>\n",
       "      <td>1.0</td>\n",
       "    </tr>\n",
       "    <tr>\n",
       "      <th>max</th>\n",
       "      <td>0.411351</td>\n",
       "      <td>0.602829</td>\n",
       "      <td>0.387684</td>\n",
       "      <td>0.656086</td>\n",
       "      <td>1.0</td>\n",
       "    </tr>\n",
       "  </tbody>\n",
       "</table>\n",
       "</div>"
      ],
      "text/plain": [
       "                X           Y           Z       Mixed  ClassLabel\n",
       "count  894.000000  894.000000  894.000000  894.000000       894.0\n",
       "mean     0.012167    0.016954   -0.013367    0.260309         1.0\n",
       "std      0.151538    0.210303    0.135724    0.135275         0.0\n",
       "min     -0.390434   -0.564491   -0.407749    0.017688         1.0\n",
       "25%     -0.081545   -0.118315   -0.114347    0.154367         1.0\n",
       "50%      0.006878    0.020496   -0.014202    0.238284         1.0\n",
       "75%      0.108267    0.154333    0.087854    0.352499         1.0\n",
       "max      0.411351    0.602829    0.387684    0.656086         1.0"
      ]
     },
     "execution_count": 18,
     "metadata": {},
     "output_type": "execute_result"
    }
   ],
   "source": [
    "person1.describe()"
   ]
  },
  {
   "cell_type": "code",
   "execution_count": 19,
   "id": "5a1e3495-c863-46f9-9d12-6112bc0c31ed",
   "metadata": {},
   "outputs": [],
   "source": [
    "def calculate_metrics(window):\n",
    "    mean = window.mean()\n",
    "    std_dev = window.std()\n",
    "    energy = np.sum(np.square(window))\n",
    "    hist = np.histogram(window, bins=10, density=True)[0]\n",
    "    entropy = -np.sum(hist * np.log2(hist + 1e-10))\n",
    "    peaks, _ = find_peaks(window, height=0)\n",
    "    num_peaks = len(peaks)\n",
    "    return mean, std_dev, energy, entropy, num_peaks"
   ]
  },
  {
   "cell_type": "code",
   "execution_count": 20,
   "id": "f7017683-a28e-4f9e-8087-4db0482506f4",
   "metadata": {},
   "outputs": [],
   "source": [
    "window_size = 100\n",
    "metrics = {\n",
    "}\n",
    "\n",
    "for col in ['X', 'Y', 'Mixed']:\n",
    "    for metric_name in ['Mean', 'Std Dev', 'Energy', 'Entropy', 'Peaks']:\n",
    "        metrics[f'{metric_name}_{col}'] = []"
   ]
  },
  {
   "cell_type": "code",
   "execution_count": 21,
   "id": "372159e5-9b72-4045-85e7-cf796a23c1ac",
   "metadata": {},
   "outputs": [
    {
     "data": {
      "text/plain": [
       "{'Mean_X': [],\n",
       " 'Std Dev_X': [],\n",
       " 'Energy_X': [],\n",
       " 'Entropy_X': [],\n",
       " 'Peaks_X': [],\n",
       " 'Mean_Y': [],\n",
       " 'Std Dev_Y': [],\n",
       " 'Energy_Y': [],\n",
       " 'Entropy_Y': [],\n",
       " 'Peaks_Y': [],\n",
       " 'Mean_Mixed': [],\n",
       " 'Std Dev_Mixed': [],\n",
       " 'Energy_Mixed': [],\n",
       " 'Entropy_Mixed': [],\n",
       " 'Peaks_Mixed': []}"
      ]
     },
     "execution_count": 21,
     "metadata": {},
     "output_type": "execute_result"
    }
   ],
   "source": [
    "metrics"
   ]
  },
  {
   "cell_type": "code",
   "execution_count": 22,
   "id": "8f5e0067-235a-45f5-ad19-24883127fe02",
   "metadata": {},
   "outputs": [],
   "source": [
    "for i in range(0, len(person1)):\n",
    "    for col in ['X', 'Y', 'Mixed']:\n",
    "        window = person1[col].iloc[i:i + window_size]\n",
    "        mean, std_dev, energy, entropy, num_peaks = calculate_metrics(window)\n",
    "        metrics[f'Mean_{col}'].append(mean)\n",
    "        metrics[f'Std Dev_{col}'].append(std_dev)\n",
    "        metrics[f'Energy_{col}'].append(energy)\n",
    "        metrics[f'Entropy_{col}'].append(entropy)\n",
    "        metrics[f'Peaks_{col}'].append(num_peaks)\n",
    "\n",
    "result_df = pd.DataFrame(metrics)"
   ]
  },
  {
   "cell_type": "code",
   "execution_count": 23,
   "id": "22008a05-d047-4d09-a35d-ab55b7226721",
   "metadata": {},
   "outputs": [],
   "source": [
    "result_df['category'] = 1"
   ]
  },
  {
   "cell_type": "code",
   "execution_count": 24,
   "id": "56a22d70-5528-40fe-94ce-eb0b4e1ffdda",
   "metadata": {},
   "outputs": [],
   "source": [
    "all_metrics.append(result_df)"
   ]
  },
  {
   "cell_type": "code",
   "execution_count": 25,
   "id": "d9b1a0df-7387-4de7-a8a3-4431ac77bd97",
   "metadata": {},
   "outputs": [],
   "source": [
    "for col in ['X', 'Y', 'Z', 'Mixed']:\n",
    "    person2 = remove_outliers_iqr(person2, col)"
   ]
  }
 ],
 "metadata": {
  "kernelspec": {
   "display_name": "Python 3 (ipykernel)",
   "language": "python",
   "name": "python3"
  },
  "language_info": {
   "codemirror_mode": {
    "name": "ipython",
    "version": 3
   },
   "file_extension": ".py",
   "mimetype": "text/x-python",
   "name": "python",
   "nbconvert_exporter": "python",
   "pygments_lexer": "ipython3",
   "version": "3.10.4"
  }
 },
 "nbformat": 4,
 "nbformat_minor": 5
}
